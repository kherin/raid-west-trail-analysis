{
 "cells": [
  {
   "cell_type": "markdown",
   "id": "866d22c3",
   "metadata": {},
   "source": [
    "# Raid West Trail 2025 Analysis"
   ]
  },
  {
   "cell_type": "markdown",
   "id": "1fdb39e1",
   "metadata": {},
   "source": [
    "## Installing dependencies"
   ]
  },
  {
   "cell_type": "code",
   "execution_count": null,
   "id": "a0827c9d",
   "metadata": {},
   "outputs": [],
   "source": [
    "!pip install gpxpy pandas matplotlib pytz geopy"
   ]
  },
  {
   "cell_type": "code",
   "execution_count": null,
   "id": "dd0b922c",
   "metadata": {},
   "outputs": [],
   "source": [
    "import gpxpy\n",
    "import pandas as pd\n",
    "import matplotlib.pyplot as plt\n",
    "import gpxpy.gpx\n",
    "from geopy.distance import geodesic\n",
    "from datetime import timedelta\n",
    "import numpy as np"
   ]
  },
  {
   "cell_type": "markdown",
   "id": "24833ba9",
   "metadata": {},
   "source": [
    "### Loading GPX files"
   ]
  },
  {
   "cell_type": "code",
   "execution_count": null,
   "id": "4fb7f320",
   "metadata": {},
   "outputs": [],
   "source": [
    "# loading recon file\n",
    "with open('./data/raid_west_recon.gpx', 'r') as recon_gpx_file:\n",
    "    recon_gpx = gpxpy.parse(recon_gpx_file)\n",
    "    \n",
    "# loading race file\n",
    "with open('./data/raid_west_race.gpx', 'r') as race_gpx_file:\n",
    "    race_gpx = gpxpy.parse(race_gpx_file)"
   ]
  },
  {
   "cell_type": "code",
   "execution_count": null,
   "id": "6530b181",
   "metadata": {},
   "outputs": [],
   "source": [
    "def generate_dataframe(gpx):\n",
    "    # Extract track points\n",
    "    data = []\n",
    "    for track in gpx.tracks:\n",
    "        for segment in track.segments:\n",
    "            for point in segment.points:\n",
    "                data.append([point.time, point.latitude, point.longitude, point.elevation])\n",
    "\n",
    "    # Create DataFrame\n",
    "    df = pd.DataFrame(data, columns=['time', 'latitude', 'longitude', 'elevation'])\n",
    "    \n",
    "    # Convert time column to datetime\n",
    "    df['time'] = pd.to_datetime(df['time'])\n",
    "    \n",
    "    # removing timezone information to prevent issues when plotting\n",
    "    df['time'] = df['time'].dt.tz_localize(None)\n",
    "    return df"
   ]
  },
  {
   "cell_type": "markdown",
   "id": "1b6a8ec2",
   "metadata": {},
   "source": [
    "### Display Elevation Profile"
   ]
  },
  {
   "cell_type": "code",
   "execution_count": null,
   "id": "22e7fe1a",
   "metadata": {},
   "outputs": [],
   "source": [
    "def display_elevation_profile(df, plot_title):\n",
    "    # Plot elevation profile\n",
    "    plt.figure(figsize=(10, 5))\n",
    "    plt.plot(df['time'], df['elevation'])\n",
    "    plt.xlabel('Time')\n",
    "    plt.ylabel('Elevation (m)')\n",
    "    plt.title(plot_title)\n",
    "    plt.show()"
   ]
  },
  {
   "cell_type": "markdown",
   "id": "60485c58",
   "metadata": {},
   "source": [
    "### Display Elevation Profile for Recon"
   ]
  },
  {
   "cell_type": "code",
   "execution_count": null,
   "id": "7ec6cc7a",
   "metadata": {},
   "outputs": [],
   "source": [
    "display_elevation_profile(generate_dataframe(recon_gpx), 'Elevation Profile of Recon')"
   ]
  },
  {
   "cell_type": "markdown",
   "id": "4ebb2a49",
   "metadata": {},
   "source": [
    "### Display Elevation Profile for Race"
   ]
  },
  {
   "cell_type": "code",
   "execution_count": null,
   "id": "1e36e4a6",
   "metadata": {},
   "outputs": [],
   "source": [
    "display_elevation_profile(generate_dataframe(race_gpx), 'Elevation Profile of Race')"
   ]
  },
  {
   "cell_type": "code",
   "execution_count": null,
   "id": "628f071c",
   "metadata": {},
   "outputs": [],
   "source": [
    "recon_df = generate_dataframe(recon_gpx)\n",
    "print(f\"Highest point of recon is: {round(recon_df['elevation'].max(), 2)}\")\n",
    "print(f\"Lowest point of recon is: {round(recon_df['elevation'].min(), 2)}\")"
   ]
  },
  {
   "cell_type": "code",
   "execution_count": null,
   "id": "3da63fa2",
   "metadata": {},
   "outputs": [],
   "source": [
    "race_df = generate_dataframe(race_gpx)\n",
    "print(f\"Highest point of race is {round(race_df['elevation'].max(), 2)}\")\n",
    "print(f\"Lowest point of race is: {round(race_df['elevation'].min(), 2)}\")"
   ]
  },
  {
   "cell_type": "markdown",
   "id": "989ec947",
   "metadata": {},
   "source": [
    "Since I'm concerned with a specific segment of the trail (mainly the descent), I am going to extract only the segment which starts roughly from the start of the mountain to the end at the bottom. Again, the start and end of the extracted segment will be approximations based (visually) on the above plot. "
   ]
  },
  {
   "cell_type": "markdown",
   "id": "393f3b06",
   "metadata": {},
   "source": [
    "### Extracting Recon Segment"
   ]
  },
  {
   "cell_type": "code",
   "execution_count": null,
   "id": "cb0af3d0",
   "metadata": {},
   "outputs": [],
   "source": [
    "recon_segment_start_time = pd.Timestamp('2025-02-02 03:32:37')\n",
    "recon_segment_df = recon_df[(recon_df['time'] > recon_segment_start_time)]"
   ]
  },
  {
   "cell_type": "code",
   "execution_count": null,
   "id": "3023e2bb",
   "metadata": {},
   "outputs": [],
   "source": [
    "display_elevation_profile(recon_segment_df, 'Elevation Profile of Recon Descent Segment')"
   ]
  },
  {
   "cell_type": "markdown",
   "id": "e6df06d2",
   "metadata": {},
   "source": [
    "### Extracting Race Segment"
   ]
  },
  {
   "cell_type": "code",
   "execution_count": null,
   "id": "f52d72f0",
   "metadata": {},
   "outputs": [],
   "source": [
    "race_segment_start_time = pd.Timestamp('2025-02-08 04:47:14')\n",
    "race_segment_df = race_df[(race_df['time'] > race_segment_start_time)]"
   ]
  },
  {
   "cell_type": "code",
   "execution_count": null,
   "id": "9e713234",
   "metadata": {},
   "outputs": [],
   "source": [
    "display_elevation_profile(race_segment_df, 'Elevation Profile of Race Descent Segment')"
   ]
  },
  {
   "cell_type": "code",
   "execution_count": null,
   "id": "fe2ecee8",
   "metadata": {},
   "outputs": [],
   "source": [
    "def find_average_pace(df):\n",
    "    # Initialize variables\n",
    "    total_distance = 0.0  # in kilometers\n",
    "    total_time = timedelta(0)\n",
    "\n",
    "    for index in range(1, len(df)):\n",
    "        # Current and previous points\n",
    "        prev_point = df.iloc[index-1]\n",
    "        curr_point = df.iloc[index]\n",
    "\n",
    "        # Calculate distance between points (in kilometers)\n",
    "        if not any(np.isnan(np.array([prev_point['latitude'], prev_point['longitude'], curr_point['latitude'], curr_point['longitude']]))):\n",
    "            coords_1 = (prev_point['latitude'], prev_point['longitude'])\n",
    "            coords_2 = (curr_point['latitude'], curr_point['longitude'])\n",
    "            distance = geodesic(coords_1, coords_2).kilometers\n",
    "            total_distance += distance\n",
    "\n",
    "            # check for identical timestamps\n",
    "            if prev_point['time'] == curr_point['time']:\n",
    "                time_diff = timedelta(0)\n",
    "            else:\n",
    "                time_diff = curr_point['time'] - prev_point['time']\n",
    "\n",
    "            # Calculate time difference between points\n",
    "            time_diff = curr_point['time'] - prev_point['time']\n",
    "\n",
    "            # Calculate current pace\n",
    "            df.at[index, 'pace'] = time_diff / distance\n",
    "            total_time += time_diff\n",
    "    # Calculate average pace (time per kilometer)\n",
    "    average_pace_per_km = total_time / total_distance\n",
    "    \n",
    "    print(f'Total Distance: {total_distance} kilometers')\n",
    "    print(f'Total Time: {get_seconds(total_time)}')\n",
    "    print(f'Average Pace: {get_seconds(average_pace_per_km)} min/km')"
   ]
  },
  {
   "cell_type": "code",
   "execution_count": null,
   "id": "652114d8",
   "metadata": {},
   "outputs": [],
   "source": [
    "# utility function to get seconds only from timedelta object\n",
    "def get_seconds(timedelta_obj):\n",
    "    total_seconds = timedelta_obj.total_seconds()\n",
    "    time_only_seconds = total_seconds % (24 * 3600)  # Seconds in a day\n",
    "    time_only_delta = timedelta(seconds=time_only_seconds)\n",
    "    return time_only_delta"
   ]
  },
  {
   "cell_type": "code",
   "execution_count": null,
   "id": "fdde8a64",
   "metadata": {},
   "outputs": [],
   "source": [
    "find_average_pace(race_segment_df)"
   ]
  },
  {
   "cell_type": "code",
   "execution_count": null,
   "id": "424b003b",
   "metadata": {},
   "outputs": [],
   "source": [
    "find_average_pace(recon_segment_df)"
   ]
  }
 ],
 "metadata": {
  "kernelspec": {
   "display_name": "Python 3 (ipykernel)",
   "language": "python",
   "name": "python3"
  },
  "language_info": {
   "codemirror_mode": {
    "name": "ipython",
    "version": 3
   },
   "file_extension": ".py",
   "mimetype": "text/x-python",
   "name": "python",
   "nbconvert_exporter": "python",
   "pygments_lexer": "ipython3",
   "version": "3.7.9"
  }
 },
 "nbformat": 4,
 "nbformat_minor": 5
}
